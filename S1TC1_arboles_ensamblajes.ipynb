{
 "cells": [
  {
   "cell_type": "markdown",
   "metadata": {},
   "source": [
    "![image info](https://raw.githubusercontent.com/albahnsen/MIAD_ML_and_NLP/main/images/banner_1.png)"
   ]
  },
  {
   "cell_type": "markdown",
   "metadata": {},
   "source": [
    "# Taller: Construcción e implementación de árboles de decisión y métodos de ensamblaje\n",
    "\n",
    "En este taller podrá poner en práctica los sus conocimientos sobre construcción e implementación de árboles de decisión y métodos de ensamblajes. El taller está constituido por 9 puntos, 5 relacionados con árboles de decisión (parte A) y 4 con métodos de ensamblaje (parte B)."
   ]
  },
  {
   "cell_type": "markdown",
   "metadata": {},
   "source": [
    "## Parte A - Árboles de decisión\n",
    "\n",
    "En esta parte del taller se usará el conjunto de datos de Capital Bikeshare de Kaggle, donde cada observación representa el alquiler de bicicletas durante una hora y día determinado. Para más detalles puede visitar los siguientes enlaces: [datos](https://archive.ics.uci.edu/ml/machine-learning-databases/00275/Bike-Sharing-Dataset.zip), [dicccionario de datos](https://archive.ics.uci.edu/ml/datasets/Bike+Sharing+Dataset#)."
   ]
  },
  {
   "cell_type": "markdown",
   "metadata": {},
   "source": [
    "### Datos prestamo de bicicletas"
   ]
  },
  {
   "cell_type": "code",
   "execution_count": 2,
   "metadata": {},
   "outputs": [],
   "source": [
    "import warnings\n",
    "warnings.filterwarnings('ignore')"
   ]
  },
  {
   "cell_type": "code",
   "execution_count": 3,
   "metadata": {},
   "outputs": [],
   "source": [
    "# Importación de librerías\n",
    "%matplotlib inline\n",
    "import pandas as pd\n",
    "import numpy as np\n",
    "from sklearn.model_selection import cross_val_score\n",
    "from sklearn.linear_model import LinearRegression\n",
    "from sklearn.tree import DecisionTreeRegressor, export_graphviz"
   ]
  },
  {
   "cell_type": "code",
   "execution_count": 4,
   "metadata": {},
   "outputs": [
    {
     "data": {
      "text/html": [
       "<div>\n",
       "<style scoped>\n",
       "    .dataframe tbody tr th:only-of-type {\n",
       "        vertical-align: middle;\n",
       "    }\n",
       "\n",
       "    .dataframe tbody tr th {\n",
       "        vertical-align: top;\n",
       "    }\n",
       "\n",
       "    .dataframe thead th {\n",
       "        text-align: right;\n",
       "    }\n",
       "</style>\n",
       "<table border=\"1\" class=\"dataframe\">\n",
       "  <thead>\n",
       "    <tr style=\"text-align: right;\">\n",
       "      <th></th>\n",
       "      <th>season</th>\n",
       "      <th>holiday</th>\n",
       "      <th>workingday</th>\n",
       "      <th>weather</th>\n",
       "      <th>temp</th>\n",
       "      <th>atemp</th>\n",
       "      <th>humidity</th>\n",
       "      <th>windspeed</th>\n",
       "      <th>casual</th>\n",
       "      <th>registered</th>\n",
       "      <th>total</th>\n",
       "      <th>hour</th>\n",
       "    </tr>\n",
       "    <tr>\n",
       "      <th>datetime</th>\n",
       "      <th></th>\n",
       "      <th></th>\n",
       "      <th></th>\n",
       "      <th></th>\n",
       "      <th></th>\n",
       "      <th></th>\n",
       "      <th></th>\n",
       "      <th></th>\n",
       "      <th></th>\n",
       "      <th></th>\n",
       "      <th></th>\n",
       "      <th></th>\n",
       "    </tr>\n",
       "  </thead>\n",
       "  <tbody>\n",
       "    <tr>\n",
       "      <th>2011-01-01 00:00:00</th>\n",
       "      <td>1</td>\n",
       "      <td>0</td>\n",
       "      <td>0</td>\n",
       "      <td>1</td>\n",
       "      <td>9.84</td>\n",
       "      <td>14.395</td>\n",
       "      <td>81</td>\n",
       "      <td>0.0</td>\n",
       "      <td>3</td>\n",
       "      <td>13</td>\n",
       "      <td>16</td>\n",
       "      <td>0</td>\n",
       "    </tr>\n",
       "    <tr>\n",
       "      <th>2011-01-01 01:00:00</th>\n",
       "      <td>1</td>\n",
       "      <td>0</td>\n",
       "      <td>0</td>\n",
       "      <td>1</td>\n",
       "      <td>9.02</td>\n",
       "      <td>13.635</td>\n",
       "      <td>80</td>\n",
       "      <td>0.0</td>\n",
       "      <td>8</td>\n",
       "      <td>32</td>\n",
       "      <td>40</td>\n",
       "      <td>1</td>\n",
       "    </tr>\n",
       "    <tr>\n",
       "      <th>2011-01-01 02:00:00</th>\n",
       "      <td>1</td>\n",
       "      <td>0</td>\n",
       "      <td>0</td>\n",
       "      <td>1</td>\n",
       "      <td>9.02</td>\n",
       "      <td>13.635</td>\n",
       "      <td>80</td>\n",
       "      <td>0.0</td>\n",
       "      <td>5</td>\n",
       "      <td>27</td>\n",
       "      <td>32</td>\n",
       "      <td>2</td>\n",
       "    </tr>\n",
       "    <tr>\n",
       "      <th>2011-01-01 03:00:00</th>\n",
       "      <td>1</td>\n",
       "      <td>0</td>\n",
       "      <td>0</td>\n",
       "      <td>1</td>\n",
       "      <td>9.84</td>\n",
       "      <td>14.395</td>\n",
       "      <td>75</td>\n",
       "      <td>0.0</td>\n",
       "      <td>3</td>\n",
       "      <td>10</td>\n",
       "      <td>13</td>\n",
       "      <td>3</td>\n",
       "    </tr>\n",
       "    <tr>\n",
       "      <th>2011-01-01 04:00:00</th>\n",
       "      <td>1</td>\n",
       "      <td>0</td>\n",
       "      <td>0</td>\n",
       "      <td>1</td>\n",
       "      <td>9.84</td>\n",
       "      <td>14.395</td>\n",
       "      <td>75</td>\n",
       "      <td>0.0</td>\n",
       "      <td>0</td>\n",
       "      <td>1</td>\n",
       "      <td>1</td>\n",
       "      <td>4</td>\n",
       "    </tr>\n",
       "  </tbody>\n",
       "</table>\n",
       "</div>"
      ],
      "text/plain": [
       "                     season  holiday  workingday  weather  temp   atemp  \\\n",
       "datetime                                                                  \n",
       "2011-01-01 00:00:00       1        0           0        1  9.84  14.395   \n",
       "2011-01-01 01:00:00       1        0           0        1  9.02  13.635   \n",
       "2011-01-01 02:00:00       1        0           0        1  9.02  13.635   \n",
       "2011-01-01 03:00:00       1        0           0        1  9.84  14.395   \n",
       "2011-01-01 04:00:00       1        0           0        1  9.84  14.395   \n",
       "\n",
       "                     humidity  windspeed  casual  registered  total  hour  \n",
       "datetime                                                                   \n",
       "2011-01-01 00:00:00        81        0.0       3          13     16     0  \n",
       "2011-01-01 01:00:00        80        0.0       8          32     40     1  \n",
       "2011-01-01 02:00:00        80        0.0       5          27     32     2  \n",
       "2011-01-01 03:00:00        75        0.0       3          10     13     3  \n",
       "2011-01-01 04:00:00        75        0.0       0           1      1     4  "
      ]
     },
     "execution_count": 4,
     "metadata": {},
     "output_type": "execute_result"
    }
   ],
   "source": [
    "# Lectura de la información de archivo .csv\n",
    "bikes = pd.read_csv('https://raw.githubusercontent.com/davidzarruk/MIAD_ML_NLP_2023/main/datasets/bikeshare.csv', index_col='datetime', parse_dates=True)\n",
    "\n",
    "# Renombrar variable \"count\" a \"total\"\n",
    "bikes.rename(columns={'count':'total'}, inplace=True)\n",
    "\n",
    "# Crear la hora como una variable \n",
    "bikes['hour'] = bikes.index.hour\n",
    "\n",
    "# Visualización de los datos\n",
    "bikes.head()"
   ]
  },
  {
   "cell_type": "markdown",
   "metadata": {},
   "source": [
    "### Punto 1 - Análisis descriptivo\n",
    "\n",
    "Ejecute las celdas 1.1 y 1.2. A partir de los resultados realice un análisis descriptivo sobre las variables \"season\" y \"hour\", escriba sus inferencias sobre los datos. Para complementar su análisis puede usar métricas como máximo, mínimo, percentiles entre otros.\n",
    "\n",
    " - 1:winter, 2:spring, 3:summer, 4:fall\n",
    " - year (0: 2011, 1: 2012)"
   ]
  },
  {
   "cell_type": "code",
   "execution_count": 5,
   "metadata": {},
   "outputs": [
    {
     "data": {
      "text/plain": [
       "season\n",
       "1    116.343261\n",
       "2    215.251372\n",
       "3    234.417124\n",
       "4    198.988296\n",
       "Name: total, dtype: float64"
      ]
     },
     "execution_count": 5,
     "metadata": {},
     "output_type": "execute_result"
    }
   ],
   "source": [
    "# Celda 1.1\n",
    "bikes.groupby('season').total.mean()"
   ]
  },
  {
   "cell_type": "code",
   "execution_count": 6,
   "metadata": {},
   "outputs": [
    {
     "data": {
      "image/png": "[encoded data removed]",
      "text/plain": [
       "<Figure size 400x200 with 1 Axes>"
      ]
     },
     "metadata": {},
     "output_type": "display_data"
    }
   ],
   "source": [
    "import matplotlib.pyplot as plt\n",
    "\n",
    "# Assuming you have already calculated the mean number of bikes rented for each season\n",
    "mean_bikes_season = bikes.groupby('season')['total'].mean()\n",
    "\n",
    "# Plotting\n",
    "plt.figure(figsize=(4, 2))\n",
    "mean_bikes_season.plot(kind='bar', color='skyblue')\n",
    "plt.xlabel('Season')\n",
    "plt.ylabel('Mean Number of Bikes Rented')\n",
    "plt.title('Mean Number of Bikes Rented by Season')\n",
    "plt.xticks(rotation=0)  # Rotate x-axis labels if needed\n",
    "plt.show()\n",
    "\n",
    "\n",
    "###1:winter, 2:spring, 3:summer, 4:fall"
   ]
  },
  {
   "cell_type": "code",
   "execution_count": 7,
   "metadata": {
    "scrolled": true
   },
   "outputs": [
    {
     "data": {
      "text/plain": [
       "hour\n",
       "0      55.138462\n",
       "1      33.859031\n",
       "2      22.899554\n",
       "3      11.757506\n",
       "4       6.407240\n",
       "5      19.767699\n",
       "6      76.259341\n",
       "7     213.116484\n",
       "8     362.769231\n",
       "9     221.780220\n",
       "10    175.092308\n",
       "11    210.674725\n",
       "12    256.508772\n",
       "13    257.787281\n",
       "14    243.442982\n",
       "15    254.298246\n",
       "16    316.372807\n",
       "17    468.765351\n",
       "18    430.859649\n",
       "19    315.278509\n",
       "20    228.517544\n",
       "21    173.370614\n",
       "22    133.576754\n",
       "23     89.508772\n",
       "Name: total, dtype: float64"
      ]
     },
     "execution_count": 7,
     "metadata": {},
     "output_type": "execute_result"
    }
   ],
   "source": [
    "# Celda 1.2\n",
    "bikes.groupby('hour').total.mean()"
   ]
  },
  {
   "cell_type": "code",
   "execution_count": 8,
   "metadata": {},
   "outputs": [
    {
     "data": {
      "text/html": [
       "<div>\n",
       "<style scoped>\n",
       "    .dataframe tbody tr th:only-of-type {\n",
       "        vertical-align: middle;\n",
       "    }\n",
       "\n",
       "    .dataframe tbody tr th {\n",
       "        vertical-align: top;\n",
       "    }\n",
       "\n",
       "    .dataframe thead th {\n",
       "        text-align: right;\n",
       "    }\n",
       "</style>\n",
       "<table border=\"1\" class=\"dataframe\">\n",
       "  <thead>\n",
       "    <tr style=\"text-align: right;\">\n",
       "      <th></th>\n",
       "      <th>count</th>\n",
       "      <th>mean</th>\n",
       "      <th>std</th>\n",
       "      <th>min</th>\n",
       "      <th>25%</th>\n",
       "      <th>50%</th>\n",
       "      <th>75%</th>\n",
       "      <th>max</th>\n",
       "    </tr>\n",
       "    <tr>\n",
       "      <th>season</th>\n",
       "      <th></th>\n",
       "      <th></th>\n",
       "      <th></th>\n",
       "      <th></th>\n",
       "      <th></th>\n",
       "      <th></th>\n",
       "      <th></th>\n",
       "      <th></th>\n",
       "    </tr>\n",
       "  </thead>\n",
       "  <tbody>\n",
       "    <tr>\n",
       "      <th>1</th>\n",
       "      <td>2686.0</td>\n",
       "      <td>116.343261</td>\n",
       "      <td>125.273974</td>\n",
       "      <td>1.0</td>\n",
       "      <td>24.0</td>\n",
       "      <td>78.0</td>\n",
       "      <td>164.0</td>\n",
       "      <td>801.0</td>\n",
       "    </tr>\n",
       "    <tr>\n",
       "      <th>2</th>\n",
       "      <td>2733.0</td>\n",
       "      <td>215.251372</td>\n",
       "      <td>192.007843</td>\n",
       "      <td>1.0</td>\n",
       "      <td>49.0</td>\n",
       "      <td>172.0</td>\n",
       "      <td>321.0</td>\n",
       "      <td>873.0</td>\n",
       "    </tr>\n",
       "    <tr>\n",
       "      <th>3</th>\n",
       "      <td>2733.0</td>\n",
       "      <td>234.417124</td>\n",
       "      <td>197.151001</td>\n",
       "      <td>1.0</td>\n",
       "      <td>68.0</td>\n",
       "      <td>195.0</td>\n",
       "      <td>347.0</td>\n",
       "      <td>977.0</td>\n",
       "    </tr>\n",
       "    <tr>\n",
       "      <th>4</th>\n",
       "      <td>2734.0</td>\n",
       "      <td>198.988296</td>\n",
       "      <td>177.622409</td>\n",
       "      <td>1.0</td>\n",
       "      <td>51.0</td>\n",
       "      <td>161.0</td>\n",
       "      <td>294.0</td>\n",
       "      <td>948.0</td>\n",
       "    </tr>\n",
       "  </tbody>\n",
       "</table>\n",
       "</div>"
      ],
      "text/plain": [
       "         count        mean         std  min   25%    50%    75%    max\n",
       "season                                                                \n",
       "1       2686.0  116.343261  125.273974  1.0  24.0   78.0  164.0  801.0\n",
       "2       2733.0  215.251372  192.007843  1.0  49.0  172.0  321.0  873.0\n",
       "3       2733.0  234.417124  197.151001  1.0  68.0  195.0  347.0  977.0\n",
       "4       2734.0  198.988296  177.622409  1.0  51.0  161.0  294.0  948.0"
      ]
     },
     "execution_count": 8,
     "metadata": {},
     "output_type": "execute_result"
    }
   ],
   "source": [
    "bikes.groupby('season').total.describe()"
   ]
  },
  {
   "cell_type": "markdown",
   "metadata": {},
   "source": [
    "### Análisis de los datos\n",
    "\n",
    "1. Resalta la media en las estaciones 2 (primavera) y 3 (verano) lo cuál tiene sentido pues es la época del año que cuenta con temperaturas mas amigables para los usuarios. Diferente de otoño e invierno donde se observa la mayor caida en las rentas proemdio de bicicletas.\n",
    "2. En otras estadísticas descriptivas se observa que siempre hubo al menos una bicicleta rentada. También que, a pesar de que otoño muestra una caida con respecto a primavera y verano, el momento de mayores bicicletas rentadas se situa en esta estación."
   ]
  },
  {
   "cell_type": "markdown",
   "metadata": {},
   "source": [
    "### Punto 2 - Análisis de gráficos\n",
    "\n",
    "Primero ejecute la celda 2.1 y asegúrese de comprender el código y el resultado. Luego, en cada una de celdas 2.2 y 2.3 escriba un código que genere una gráfica del número de bicicletas rentadas promedio para cada valor de la variable \"hour\" (hora) cuando la variable \"season\" es igual a 1 (invierno) e igual a 3 (verano), respectivamente. Analice y escriba sus hallazgos."
   ]
  },
  {
   "cell_type": "code",
   "execution_count": 9,
   "metadata": {},
   "outputs": [
    {
     "data": {
      "text/plain": [
       "<AxesSubplot:xlabel='hour'>"
      ]
     },
     "execution_count": 9,
     "metadata": {},
     "output_type": "execute_result"
    },
    {
     "data": {
      "image/png": "[encoded data removed]",
      "text/plain": [
       "<Figure size 640x480 with 1 Axes>"
      ]
     },
     "metadata": {},
     "output_type": "display_data"
    }
   ],
   "source": [
    "# Celda 2.1 - rentas promedio para cada valor de la variable \"hour\"\n",
    "bikes.groupby('hour').total.mean().plot()"
   ]
  },
  {
   "cell_type": "code",
   "execution_count": 10,
   "metadata": {},
   "outputs": [
    {
     "data": {
      "image/png": "[encoded data removed]",
      "text/plain": [
       "<Figure size 600x300 with 1 Axes>"
      ]
     },
     "metadata": {},
     "output_type": "display_data"
    }
   ],
   "source": [
    "# Celda 2.2 - \"season\"=1 escriba su código y hallazgos \n",
    "# Filter the DataFrame where season is equal to 1\n",
    "season_1_data = bikes[bikes['season'] == 1]\n",
    "###1:winter, 2:spring, 3:summer, 4:fall\n",
    "# Calculate descriptive statistics for the 'total' column grouped by 'hour'\n",
    "hourly_stats_season_1 = season_1_data.groupby('hour')['total'].describe()\n",
    "\n",
    "# Plotting\n",
    "plt.figure(figsize=(6, 3))\n",
    "hourly_stats_season_1['mean'].plot(marker='o', color='skyblue', label='Mean')\n",
    "plt.fill_between(hourly_stats_season_1.index, hourly_stats_season_1['25%'], hourly_stats_season_1['75%'], color='lightblue', alpha=0.4)\n",
    "plt.xlabel('Hour')\n",
    "plt.ylabel('Total')\n",
    "plt.title('Total Rentals by Hour (Winter)')\n",
    "plt.xticks(hourly_stats_season_1.index)  # Set x-axis ticks to match each hour\n",
    "plt.legend()\n",
    "plt.grid(True)\n",
    "plt.show()"
   ]
  },
  {
   "cell_type": "code",
   "execution_count": 11,
   "metadata": {},
   "outputs": [
    {
     "data": {
      "image/png": "[encoded data removed]",
      "text/plain": [
       "<Figure size 600x300 with 1 Axes>"
      ]
     },
     "metadata": {},
     "output_type": "display_data"
    }
   ],
   "source": [
    "# Celda 2.3 - \"season\"=3 escriba su código y hallazgos \n",
    "# Filter the DataFrame where season is equal to 3\n",
    "season_3_data = bikes[bikes['season'] == 3]\n",
    "###1:winter, 2:spring, 3:summer, 4:fall\n",
    "# Calculate descriptive statistics for the 'total' column grouped by 'hour'\n",
    "hourly_stats_season_3 = season_3_data.groupby('hour')['total'].describe()\n",
    "\n",
    "# Plotting\n",
    "plt.figure(figsize=(6, 3))\n",
    "hourly_stats_season_3['mean'].plot(marker='o', color='skyblue', label='Mean')\n",
    "plt.fill_between(hourly_stats_season_3.index, hourly_stats_season_3['25%'], hourly_stats_season_3['75%'], color='lightblue', alpha=0.4)\n",
    "plt.xlabel('Hour')\n",
    "plt.ylabel('Total')\n",
    "plt.title('Total Rentals by Hour (Summer)')\n",
    "plt.xticks(hourly_stats_season_3.index)  # Set x-axis ticks to match each hour\n",
    "plt.legend()\n",
    "plt.grid(True)\n",
    "plt.show()\n"
   ]
  },
  {
   "cell_type": "markdown",
   "metadata": {},
   "source": [
    "### Análisis de los datos\n",
    "\n",
    "1. El comportamiento en ambas gráficas es prácticamente igual a pesar de ser estaciones en condiciones climaticas totalmente opuestas.\n",
    "2. Dentro de ese comportamiento se observan picos en las los 8:00 y 17:00. Se puede inferir que los usuarios de estas bicicletas las usan para dirigirse a sus trabajos.\n",
    "3. Un leve pico intermedio a las 12:00 y las 13:00. Posiblemente algunos usuarios aprovechan esta hora para ir a almorzar.\n",
    "4. A pesar de la similitud en el comportamiento entre estaciones si se comparan ambos, el pico máximo de invierno no llega a las 300 rentas mientras que en el verano casi toca el techo de las 600 rentas."
   ]
  },
  {
   "cell_type": "markdown",
   "metadata": {},
   "source": [
    "### Punto 3 - Regresión lineal\n",
    "En la celda 3 ajuste un modelo de regresión lineal a todo el conjunto de datos, utilizando \"total\" como variable de respuesta y \"season\" y \"hour\" como las únicas variables predictoras, teniendo en cuenta que la variable \"season\" es categórica. Luego, imprima los coeficientes e interprételos. ¿Cuáles son las limitaciones de la regresión lineal en este caso?"
   ]
  },
  {
   "cell_type": "code",
   "execution_count": 17,
   "metadata": {},
   "outputs": [
    {
     "name": "stdout",
     "output_type": "stream",
     "text": [
      "Coeficientes del modelo:\n",
      "Intercepto: 77.65285541066137\n",
      "Coeficientes para las variables predictoras:\n",
      "hour : 10.545206094069927\n",
      "season_1 : -84.08311787296758\n",
      "season_2 : 16.234114043098025\n",
      "season_3 : 35.384432072963975\n",
      "                            OLS Regression Results                            \n",
      "==============================================================================\n",
      "Dep. Variable:                  total   R-squared:                       0.223\n",
      "Model:                            OLS   Adj. R-squared:                  0.223\n",
      "Method:                 Least Squares   F-statistic:                     782.5\n",
      "Date:                Sun, 07 Apr 2024   Prob (F-statistic):               0.00\n",
      "Time:                        20:04:11   Log-Likelihood:                -70669.\n",
      "No. Observations:               10886   AIC:                         1.413e+05\n",
      "Df Residuals:                   10881   BIC:                         1.414e+05\n",
      "Df Model:                           4                                         \n",
      "Covariance Type:            nonrobust                                         \n",
      "==============================================================================\n",
      "                 coef    std err          t      P>|t|      [0.025      0.975]\n",
      "------------------------------------------------------------------------------\n",
      "const         77.6529      3.976     19.531      0.000      69.859      85.446\n",
      "hour          10.5452      0.221     47.653      0.000      10.111      10.979\n",
      "season_1     -84.0831      4.338    -19.384      0.000     -92.586     -75.580\n",
      "season_2      16.2341      4.319      3.759      0.000       7.769      24.700\n",
      "season_3      35.3844      4.319      8.193      0.000      26.919      43.850\n",
      "==============================================================================\n",
      "Omnibus:                     2248.215   Durbin-Watson:                   0.479\n",
      "Prob(Omnibus):                  0.000   Jarque-Bera (JB):             4420.137\n",
      "Skew:                           1.250   Prob(JB):                         0.00\n",
      "Kurtosis:                       4.871   Cond. No.                         59.7\n",
      "==============================================================================\n",
      "\n",
      "Notes:\n",
      "[1] Standard Errors assume that the covariance matrix of the errors is correctly specified.\n"
     ]
    }
   ],
   "source": [
    "import statsmodels.api as sm \n",
    "\n",
    "season_dummies = pd.get_dummies(bikes['season'], prefix='season')\n",
    "\n",
    "#Se concatenan las variables dummy con el conjunto de datos original\n",
    "bikes_LR = pd.concat([bikes, season_dummies], axis=1)\n",
    "\n",
    "# Seleccionar las variables predictoras y la variable de respuesta\n",
    "X = bikes_LR[['hour', 'season_1', 'season_2', 'season_3']]\n",
    "y = bikes_LR['total']\n",
    "\n",
    "# Ajustar el modelo de regresión lineal\n",
    "model = LinearRegression().fit(X, y)\n",
    "\n",
    "# Imprimir los coeficientes\n",
    "print(\"Coeficientes del modelo:\")\n",
    "print(\"Intercepto:\", model.intercept_)\n",
    "print(\"Coeficientes para las variables predictoras:\")\n",
    "for feature, coef in zip(X.columns, model.coef_):\n",
    "    print(feature, \":\", coef)\n",
    "\n",
    "#model = sm.OLS(y, sm.add_constant(X)).fit()\n",
    " \n",
    "#Coeficientes\n",
    "#print(model.summary())\n",
    "\n"
   ]
  },
  {
   "cell_type": "markdown",
   "metadata": {},
   "source": [
    "### Análisis\n",
    "1. El intercepto indica que cuando las variables independientes toman valor 0 el promedio estimado de *y* (número total de alquileres) es de 69.5. Es decir que en promedio se esperan alrededor de 69 alquileres cuando no hay efecto de la hora del día ni de la estación del año.\n",
    "2. Para la variable \"hour\": Este coeficiente indica cómo cambia el número total de alquileres para cada unidad de cambio en la variable \"hour\" (hora). En este caso, el coeficiente es 10.55, lo que significa que por cada hora adicional del día, se espera un aumento de aproximadamente 10.55 alquileres en promedio, manteniendo constantes las demás variables.\n",
    "3. Estos coeficientes indican cómo cambia el número total de alquileres cuando la estación del año es la correspondiente a cada variable \"season_X\", en comparación con cuando la estación del año es otra. Por ejemplo:\n",
    "\n",
    "- Para \"season_1\" (invierno), el coeficiente indica cómo cambia el número total de alquileres cuando es invierno en comparación con las otras estaciones del año.\n",
    "- Para \"season_2\" (primavera), el coeficiente indica cómo cambia el número total de alquileres cuando es primavera en comparación con las otras estaciones del año.\n",
    "- Para \"season_3\" (verano), el coeficiente indica cómo cambia el número total de alquileres cuando es verano en comparación con las otras estaciones del año.\n",
    "- Para \"season_4\" (otoño), el coeficiente indica cómo cambia el número total de alquileres cuando es otoño en comparación con las otras estaciones del año."
   ]
  },
  {
   "cell_type": "markdown",
   "metadata": {},
   "source": [
    "### Punto 4 - Árbol de decisión manual\n",
    "En la celda 4 cree un árbol de decisiones para pronosticar la variable \"total\" iterando **manualmente** sobre las variables \"hour\" y  \"season\". El árbol debe tener al menos 6 nodos finales."
   ]
  },
  {
   "cell_type": "code",
   "execution_count": 18,
   "metadata": {},
   "outputs": [
    {
     "data": {
      "text/plain": [
       "array([ 28.2920354 ,  18.76106195,  13.20560748, ..., 162.87719298,\n",
       "       126.4122807 ,  89.29824561])"
      ]
     },
     "execution_count": 18,
     "metadata": {},
     "output_type": "execute_result"
    }
   ],
   "source": [
    "# Celda 4\n",
    "# Definición de parámetros y criterios de parada\n",
    "max_depth = None\n",
    "num_pct = 10\n",
    "min_gain = 0.001\n",
    " \n",
    "# Definición de la función Gini impurity\n",
    "def gini_impurity(y):\n",
    "    p = y.mean()\n",
    "    return 1 - (p ** 2 + (1 - p) ** 2)\n",
    " \n",
    "# Definición de la función de ganancia Gini\n",
    "def gini_gain(X_col, y, split):\n",
    "    filter_l = X_col < split\n",
    "    y_l = y.loc[filter_l]\n",
    "    y_r = y.loc[~filter_l]\n",
    "    n_l = y_l.shape[0]\n",
    "    n_r = y_r.shape[0]\n",
    "    gini_y = gini_impurity(y)\n",
    "    gini_l = gini_impurity(y_l)\n",
    "    gini_r = gini_impurity(y_r)\n",
    "    gini_impurity_ = gini_y - (n_l / (n_l + n_r) * gini_l + n_r / (n_l + n_r) * gini_r)\n",
    "    return gini_impurity_\n",
    " \n",
    "# Función para encontrar el mejor punto de corte \n",
    "def manual_best_split(X, y, num_pct):\n",
    "    features = X.columns\n",
    "    best_gain = 0\n",
    "    best_split = None\n",
    "    best_var = None\n",
    "    for j in features:\n",
    "        unique_values = sorted(X[j].unique())\n",
    "        for i in range(len(unique_values) - 1):\n",
    "            split = (unique_values[i] + unique_values[i+1]) / 2\n",
    "            gain = gini_gain(X[j], y, split)\n",
    "            if gain > best_gain:\n",
    "                best_gain = gain\n",
    "                best_split = split\n",
    "                best_var = j\n",
    "    return best_var, best_split, best_gain\n",
    " \n",
    "# Dividir los datos\n",
    "def manual_split_data(X, y, j, split):\n",
    "    filter_l = X[j] < split\n",
    "    X_l = X.loc[filter_l]\n",
    "    y_l = y.loc[filter_l]\n",
    "    X_r = X.loc[~filter_l]\n",
    "    y_r = y.loc[~filter_l]\n",
    "    return X_l, y_l, X_r, y_r\n",
    " \n",
    "# Construir el árbol de decisiones \n",
    "def manual_tree_grow(X, y, level=0, min_gain=0.001, max_depth=None, num_pct=10):\n",
    "    if X.shape[0] == 1 or level == max_depth:\n",
    "        return {'prediction': y.mean(), 'level': level, 'split': None}\n",
    "    j, split, gain = manual_best_split(X, y, num_pct)\n",
    "    if gain < min_gain:\n",
    "        return {'prediction': y.mean(), 'level': level, 'split': None}\n",
    "    X_l, y_l, X_r, y_r = manual_split_data(X, y, j, split)\n",
    "    tree = {'prediction': y.mean(), 'level': level, 'split': (j, split)}\n",
    "    tree['left'] = manual_tree_grow(X_l, y_l, level+1, min_gain, max_depth, num_pct)\n",
    "    tree['right'] = manual_tree_grow(X_r, y_r, level+1, min_gain, max_depth, num_pct)\n",
    "    return tree\n",
    " \n",
    "# Aplicación de la función para construir el árbol\n",
    "tree = manual_tree_grow(bikes[['hour', 'season']], bikes['total'], max_depth=6)\n",
    " \n",
    "# F\n",
    "# unción para hacer predicciones con el árbol de decisiones\n",
    "def manual_tree_predict(tree, X):\n",
    "    predictions = []\n",
    "    for _, row in X.iterrows():\n",
    "        node = tree\n",
    "        while node.get('split') is not None:\n",
    "            j, split = node['split']\n",
    "            if row[j] < split:\n",
    "                node = node['left']\n",
    "            else:\n",
    "                node = node['right']\n",
    "        predictions.append(node['prediction'])\n",
    "    return np.array(predictions)\n",
    " \n",
    "# Ejemplo de predicción con el árbol de decisiones\n",
    "predictions = manual_tree_predict(tree, bikes[['hour', 'season']])\n",
    "predictions"
   ]
  },
  {
   "cell_type": "markdown",
   "metadata": {},
   "source": [
    "### Punto 5 - Árbol de decisión con librería\n",
    "En la celda 5 entrene un árbol de decisiones con la **librería sklearn**, usando las variables predictoras \"season\" y \"hour\" y calibre los parámetros que considere conveniente para obtener un mejor desempeño. Recuerde dividir los datos en conjuntos de entrenamiento y validación para esto. Comente el desempeño del modelo con alguna métrica de desempeño de modelos de regresión y compare desempeño con el modelo del punto 3."
   ]
  },
  {
   "cell_type": "code",
   "execution_count": 19,
   "metadata": {},
   "outputs": [],
   "source": [
    "# Celda 5\n",
    "# Importación de modelos de sklearn \n",
    "from sklearn.model_selection import cross_val_score\n",
    "from sklearn.tree import DecisionTreeClassifier\n",
    "from sklearn.model_selection import train_test_split\n",
    "\n",
    "\n",
    "# Lista de valores para calibrar el criterio de parada de máxima profundidad (max_depth)\n",
    "max_depth_range = range(1, 10)\n",
    "\n",
    "# Lista para guardar los valores del RMSE para cada valor de máxima profundidad (max_depth)\n",
    "accuracy_scores = []\n",
    "\n",
    "#Train y Test\n",
    "X_train, X_test, y_train, y_test = train_test_split(bikes[['season', 'hour']], bikes['total'], test_size=0.33, random_state=0)\n",
    "\n",
    "\n",
    "# Loop para obtener el desempeño del modelo de acuerdo con la máxima profundidad\n",
    "for depth in max_depth_range:\n",
    "    # Definición del árbol de decisión usando DecisionTreeClassifier de la libreria sklearn\n",
    "    clf = DecisionTreeClassifier(max_depth=depth, random_state=1)\n",
    "    accuracy_scores.append(cross_val_score(clf, X_train, y_train, cv=10, scoring='accuracy').mean())\n"
   ]
  },
  {
   "cell_type": "code",
   "execution_count": 20,
   "metadata": {},
   "outputs": [
    {
     "data": {
      "text/plain": [
       "Text(0, 0.5, 'Accuracy')"
      ]
     },
     "execution_count": 20,
     "metadata": {},
     "output_type": "execute_result"
    },
    {
     "data": {
      "image/png": "[encoded data removed]",
      "text/plain": [
       "<Figure size 640x480 with 1 Axes>"
      ]
     },
     "metadata": {},
     "output_type": "display_data"
    }
   ],
   "source": [
    "# Gráfica max_depth versus RMSE (error del modelo)\n",
    "plt.plot(max_depth_range, accuracy_scores)\n",
    "plt.xlabel('max_depth')\n",
    "plt.ylabel('Accuracy')"
   ]
  },
  {
   "cell_type": "code",
   "execution_count": 21,
   "metadata": {},
   "outputs": [
    {
     "data": {
      "text/plain": [
       "(0.027698103989326716, 5)"
      ]
     },
     "execution_count": 21,
     "metadata": {},
     "output_type": "execute_result"
    }
   ],
   "source": [
    "# Mejor accuracy (desempeño del modelo) y su correspondiente max_depth\n",
    "sorted(zip(accuracy_scores, max_depth_range))[::-1][0]"
   ]
  },
  {
   "cell_type": "code",
   "execution_count": 22,
   "metadata": {},
   "outputs": [
    {
     "data": {
      "text/plain": [
       "DecisionTreeClassifier(max_depth=5, random_state=1)"
      ]
     },
     "execution_count": 22,
     "metadata": {},
     "output_type": "execute_result"
    }
   ],
   "source": [
    "# max_depth=4 fue el mejor, se ajusta un árbol usando este valor \n",
    "clf = DecisionTreeClassifier(max_depth=5, random_state=1)\n",
    "clf.fit(X_train, y_train)"
   ]
  },
  {
   "cell_type": "code",
   "execution_count": 28,
   "metadata": {},
   "outputs": [
    {
     "data": {
      "text/html": [
       "<div>\n",
       "<style scoped>\n",
       "    .dataframe tbody tr th:only-of-type {\n",
       "        vertical-align: middle;\n",
       "    }\n",
       "\n",
       "    .dataframe tbody tr th {\n",
       "        vertical-align: top;\n",
       "    }\n",
       "\n",
       "    .dataframe thead th {\n",
       "        text-align: right;\n",
       "    }\n",
       "</style>\n",
       "<table border=\"1\" class=\"dataframe\">\n",
       "  <thead>\n",
       "    <tr style=\"text-align: right;\">\n",
       "      <th></th>\n",
       "      <th>importance</th>\n",
       "    </tr>\n",
       "  </thead>\n",
       "  <tbody>\n",
       "    <tr>\n",
       "      <th>0</th>\n",
       "      <td>0.223542</td>\n",
       "    </tr>\n",
       "    <tr>\n",
       "      <th>1</th>\n",
       "      <td>0.776458</td>\n",
       "    </tr>\n",
       "  </tbody>\n",
       "</table>\n",
       "</div>"
      ],
      "text/plain": [
       "   importance\n",
       "0    0.223542\n",
       "1    0.776458"
      ]
     },
     "execution_count": 28,
     "metadata": {},
     "output_type": "execute_result"
    }
   ],
   "source": [
    "# Uso de la función .feature_importances_ para obtener la importancia de cada variable\n",
    "pd.DataFrame({'importance':clf.feature_importances_}).sort_values('importance')"
   ]
  },
  {
   "cell_type": "code",
   "execution_count": 29,
   "metadata": {},
   "outputs": [
    {
     "data": {
      "text/plain": [
       "count    10.000000\n",
       "mean      0.027698\n",
       "std       0.003647\n",
       "min       0.021918\n",
       "25%       0.026063\n",
       "50%       0.027435\n",
       "75%       0.028797\n",
       "max       0.035665\n",
       "dtype: float64"
      ]
     },
     "execution_count": 29,
     "metadata": {},
     "output_type": "execute_result"
    }
   ],
   "source": [
    "# Impresión de resultados de desemepeño del árbol de decisión\n",
    "pd.Series(cross_val_score(clf, X_train, y_train, cv=10)).describe()"
   ]
  },
  {
   "cell_type": "markdown",
   "metadata": {},
   "source": [
    "## Parte B - Métodos de ensamblajes\n",
    "En esta parte del taller se usará el conjunto de datos de Popularidad de Noticias Online. El objetivo es predecir si la notica es popular o no, la popularidad está dada por la cantidad de reacciones en redes sociales. Para más detalles puede visitar el siguiente enlace: [datos](https://archive.ics.uci.edu/ml/datasets/online+news+popularity)."
   ]
  },
  {
   "cell_type": "markdown",
   "metadata": {},
   "source": [
    "### Datos popularidad de noticias"
   ]
  },
  {
   "cell_type": "code",
   "execution_count": 30,
   "metadata": {},
   "outputs": [
    {
     "data": {
      "text/html": [
       "<div>\n",
       "<style scoped>\n",
       "    .dataframe tbody tr th:only-of-type {\n",
       "        vertical-align: middle;\n",
       "    }\n",
       "\n",
       "    .dataframe tbody tr th {\n",
       "        vertical-align: top;\n",
       "    }\n",
       "\n",
       "    .dataframe thead th {\n",
       "        text-align: right;\n",
       "    }\n",
       "</style>\n",
       "<table border=\"1\" class=\"dataframe\">\n",
       "  <thead>\n",
       "    <tr style=\"text-align: right;\">\n",
       "      <th></th>\n",
       "      <th>url</th>\n",
       "      <th>timedelta</th>\n",
       "      <th>n_tokens_title</th>\n",
       "      <th>n_tokens_content</th>\n",
       "      <th>n_unique_tokens</th>\n",
       "      <th>n_non_stop_words</th>\n",
       "      <th>n_non_stop_unique_tokens</th>\n",
       "      <th>num_hrefs</th>\n",
       "      <th>num_self_hrefs</th>\n",
       "      <th>num_imgs</th>\n",
       "      <th>...</th>\n",
       "      <th>min_positive_polarity</th>\n",
       "      <th>max_positive_polarity</th>\n",
       "      <th>avg_negative_polarity</th>\n",
       "      <th>min_negative_polarity</th>\n",
       "      <th>max_negative_polarity</th>\n",
       "      <th>title_subjectivity</th>\n",
       "      <th>title_sentiment_polarity</th>\n",
       "      <th>abs_title_subjectivity</th>\n",
       "      <th>abs_title_sentiment_polarity</th>\n",
       "      <th>Popular</th>\n",
       "    </tr>\n",
       "  </thead>\n",
       "  <tbody>\n",
       "    <tr>\n",
       "      <th>0</th>\n",
       "      <td>http://mashable.com/2014/12/10/cia-torture-rep...</td>\n",
       "      <td>28.0</td>\n",
       "      <td>9.0</td>\n",
       "      <td>188.0</td>\n",
       "      <td>0.732620</td>\n",
       "      <td>1.0</td>\n",
       "      <td>0.844262</td>\n",
       "      <td>5.0</td>\n",
       "      <td>1.0</td>\n",
       "      <td>1.0</td>\n",
       "      <td>...</td>\n",
       "      <td>0.200000</td>\n",
       "      <td>0.80</td>\n",
       "      <td>-0.487500</td>\n",
       "      <td>-0.60</td>\n",
       "      <td>-0.250000</td>\n",
       "      <td>0.9</td>\n",
       "      <td>0.8</td>\n",
       "      <td>0.4</td>\n",
       "      <td>0.8</td>\n",
       "      <td>1</td>\n",
       "    </tr>\n",
       "    <tr>\n",
       "      <th>1</th>\n",
       "      <td>http://mashable.com/2013/10/18/bitlock-kicksta...</td>\n",
       "      <td>447.0</td>\n",
       "      <td>7.0</td>\n",
       "      <td>297.0</td>\n",
       "      <td>0.653199</td>\n",
       "      <td>1.0</td>\n",
       "      <td>0.815789</td>\n",
       "      <td>9.0</td>\n",
       "      <td>4.0</td>\n",
       "      <td>1.0</td>\n",
       "      <td>...</td>\n",
       "      <td>0.160000</td>\n",
       "      <td>0.50</td>\n",
       "      <td>-0.135340</td>\n",
       "      <td>-0.40</td>\n",
       "      <td>-0.050000</td>\n",
       "      <td>0.1</td>\n",
       "      <td>-0.1</td>\n",
       "      <td>0.4</td>\n",
       "      <td>0.1</td>\n",
       "      <td>0</td>\n",
       "    </tr>\n",
       "    <tr>\n",
       "      <th>2</th>\n",
       "      <td>http://mashable.com/2013/07/24/google-glass-po...</td>\n",
       "      <td>533.0</td>\n",
       "      <td>11.0</td>\n",
       "      <td>181.0</td>\n",
       "      <td>0.660377</td>\n",
       "      <td>1.0</td>\n",
       "      <td>0.775701</td>\n",
       "      <td>4.0</td>\n",
       "      <td>3.0</td>\n",
       "      <td>1.0</td>\n",
       "      <td>...</td>\n",
       "      <td>0.136364</td>\n",
       "      <td>1.00</td>\n",
       "      <td>0.000000</td>\n",
       "      <td>0.00</td>\n",
       "      <td>0.000000</td>\n",
       "      <td>0.3</td>\n",
       "      <td>1.0</td>\n",
       "      <td>0.2</td>\n",
       "      <td>1.0</td>\n",
       "      <td>0</td>\n",
       "    </tr>\n",
       "    <tr>\n",
       "      <th>3</th>\n",
       "      <td>http://mashable.com/2013/11/21/these-are-the-m...</td>\n",
       "      <td>413.0</td>\n",
       "      <td>12.0</td>\n",
       "      <td>781.0</td>\n",
       "      <td>0.497409</td>\n",
       "      <td>1.0</td>\n",
       "      <td>0.677350</td>\n",
       "      <td>10.0</td>\n",
       "      <td>3.0</td>\n",
       "      <td>1.0</td>\n",
       "      <td>...</td>\n",
       "      <td>0.100000</td>\n",
       "      <td>1.00</td>\n",
       "      <td>-0.195701</td>\n",
       "      <td>-0.40</td>\n",
       "      <td>-0.071429</td>\n",
       "      <td>0.0</td>\n",
       "      <td>0.0</td>\n",
       "      <td>0.5</td>\n",
       "      <td>0.0</td>\n",
       "      <td>0</td>\n",
       "    </tr>\n",
       "    <tr>\n",
       "      <th>4</th>\n",
       "      <td>http://mashable.com/2014/02/11/parking-ticket-...</td>\n",
       "      <td>331.0</td>\n",
       "      <td>8.0</td>\n",
       "      <td>177.0</td>\n",
       "      <td>0.685714</td>\n",
       "      <td>1.0</td>\n",
       "      <td>0.830357</td>\n",
       "      <td>3.0</td>\n",
       "      <td>2.0</td>\n",
       "      <td>1.0</td>\n",
       "      <td>...</td>\n",
       "      <td>0.100000</td>\n",
       "      <td>0.55</td>\n",
       "      <td>-0.175000</td>\n",
       "      <td>-0.25</td>\n",
       "      <td>-0.100000</td>\n",
       "      <td>0.0</td>\n",
       "      <td>0.0</td>\n",
       "      <td>0.5</td>\n",
       "      <td>0.0</td>\n",
       "      <td>0</td>\n",
       "    </tr>\n",
       "  </tbody>\n",
       "</table>\n",
       "<p>5 rows × 61 columns</p>\n",
       "</div>"
      ],
      "text/plain": [
       "                                                 url  timedelta  \\\n",
       "0  http://mashable.com/2014/12/10/cia-torture-rep...       28.0   \n",
       "1  http://mashable.com/2013/10/18/bitlock-kicksta...      447.0   \n",
       "2  http://mashable.com/2013/07/24/google-glass-po...      533.0   \n",
       "3  http://mashable.com/2013/11/21/these-are-the-m...      413.0   \n",
       "4  http://mashable.com/2014/02/11/parking-ticket-...      331.0   \n",
       "\n",
       "   n_tokens_title  n_tokens_content  n_unique_tokens  n_non_stop_words  \\\n",
       "0             9.0             188.0         0.732620               1.0   \n",
       "1             7.0             297.0         0.653199               1.0   \n",
       "2            11.0             181.0         0.660377               1.0   \n",
       "3            12.0             781.0         0.497409               1.0   \n",
       "4             8.0             177.0         0.685714               1.0   \n",
       "\n",
       "   n_non_stop_unique_tokens  num_hrefs  num_self_hrefs  num_imgs  ...  \\\n",
       "0                  0.844262        5.0             1.0       1.0  ...   \n",
       "1                  0.815789        9.0             4.0       1.0  ...   \n",
       "2                  0.775701        4.0             3.0       1.0  ...   \n",
       "3                  0.677350       10.0             3.0       1.0  ...   \n",
       "4                  0.830357        3.0             2.0       1.0  ...   \n",
       "\n",
       "   min_positive_polarity  max_positive_polarity  avg_negative_polarity  \\\n",
       "0               0.200000                   0.80              -0.487500   \n",
       "1               0.160000                   0.50              -0.135340   \n",
       "2               0.136364                   1.00               0.000000   \n",
       "3               0.100000                   1.00              -0.195701   \n",
       "4               0.100000                   0.55              -0.175000   \n",
       "\n",
       "   min_negative_polarity  max_negative_polarity  title_subjectivity  \\\n",
       "0                  -0.60              -0.250000                 0.9   \n",
       "1                  -0.40              -0.050000                 0.1   \n",
       "2                   0.00               0.000000                 0.3   \n",
       "3                  -0.40              -0.071429                 0.0   \n",
       "4                  -0.25              -0.100000                 0.0   \n",
       "\n",
       "   title_sentiment_polarity  abs_title_subjectivity  \\\n",
       "0                       0.8                     0.4   \n",
       "1                      -0.1                     0.4   \n",
       "2                       1.0                     0.2   \n",
       "3                       0.0                     0.5   \n",
       "4                       0.0                     0.5   \n",
       "\n",
       "   abs_title_sentiment_polarity  Popular  \n",
       "0                           0.8        1  \n",
       "1                           0.1        0  \n",
       "2                           1.0        0  \n",
       "3                           0.0        0  \n",
       "4                           0.0        0  \n",
       "\n",
       "[5 rows x 61 columns]"
      ]
     },
     "execution_count": 30,
     "metadata": {},
     "output_type": "execute_result"
    }
   ],
   "source": [
    "# Lectura de la información de archivo .csv\n",
    "df = pd.read_csv('https://raw.githubusercontent.com/davidzarruk/MIAD_ML_NLP_2023/main/datasets/mashable.csv', index_col=0)\n",
    "df.head()"
   ]
  },
  {
   "cell_type": "code",
   "execution_count": 31,
   "metadata": {},
   "outputs": [
    {
     "data": {
      "text/plain": [
       "0.5"
      ]
     },
     "execution_count": 31,
     "metadata": {},
     "output_type": "execute_result"
    }
   ],
   "source": [
    "# Definición variable de interes y variables predictoras\n",
    "X = df.drop(['url', 'Popular'], axis=1)\n",
    "y = df['Popular']\n",
    "y.mean()"
   ]
  },
  {
   "cell_type": "code",
   "execution_count": 32,
   "metadata": {},
   "outputs": [],
   "source": [
    "# División de la muestra en set de entrenamiento y prueba\n",
    "from sklearn.model_selection import train_test_split\n",
    "X_train, X_test, y_train, y_test = train_test_split(X, y, random_state=1)"
   ]
  },
  {
   "cell_type": "markdown",
   "metadata": {},
   "source": [
    "### Punto 6 - Árbol de decisión y regresión logística\n",
    "En la celda 6 construya un árbol de decisión y una regresión logística. Para el árbol calibre al menos un parámetro y evalúe el desempeño de cada modelo usando las métricas de Accuracy y F1-Score."
   ]
  },
  {
   "cell_type": "code",
   "execution_count": 34,
   "metadata": {},
   "outputs": [
    {
     "name": "stdout",
     "output_type": "stream",
     "text": [
      "Árbol de Decisión:\n",
      "Accuracy: 0.6373333333333333\n",
      "F1-Score: 0.6616915422885573\n",
      "\n",
      "Regresión Logística:\n",
      "Accuracy: 0.614\n",
      "F1-Score: 0.6106254203093476\n"
     ]
    }
   ],
   "source": [
    "# Celda 6\n",
    "from sklearn.metrics import accuracy_score\n",
    "from sklearn.model_selection import train_test_split\n",
    "from sklearn.linear_model import LogisticRegression\n",
    "from sklearn.metrics import f1_score\n",
    "\n",
    "# Árbol de decisión con calibración del parámetro max_depth\n",
    "tree_clf = DecisionTreeClassifier(max_depth=5, random_state=1)\n",
    "tree_clf.fit(X_train, y_train)\n",
    " \n",
    "# Predicciones del árbol de decisión\n",
    "tree_preds = tree_clf.predict(X_test)\n",
    " \n",
    "# Evaluación del árbol de decisión\n",
    "tree_accuracy = accuracy_score(y_test, tree_preds)\n",
    "tree_f1 = f1_score(y_test, tree_preds)\n",
    " \n",
    "print(\"Árbol de Decisión:\")\n",
    "print(f\"Accuracy: {tree_accuracy}\")\n",
    "print(f\"F1-Score: {tree_f1}\")\n",
    " \n",
    "# Regresión logística\n",
    "log_reg = LogisticRegression(random_state=1)\n",
    "log_reg.fit(X_train, y_train)\n",
    " \n",
    "# Predicciones de la regresión logística\n",
    "log_reg_preds = log_reg.predict(X_test)\n",
    " \n",
    "# Evaluación de la regresión logística\n",
    "log_reg_accuracy = accuracy_score(y_test, log_reg_preds)\n",
    "log_reg_f1 = f1_score(y_test, log_reg_preds)\n",
    " \n",
    "print(\"\\nRegresión Logística:\")\n",
    "print(f\"Accuracy: {log_reg_accuracy}\")\n",
    "print(f\"F1-Score: {log_reg_f1}\")"
   ]
  },
  {
   "cell_type": "markdown",
   "metadata": {},
   "source": [
    "### Punto 7 - Votación Mayoritaria\n",
    "En la celda 7 elabore un esamble con la metodología de **Votación mayoritaria** compuesto por 300 muestras bagged para cada uno de los siguientes escenarios:\n",
    "\n",
    "-100 árboles de decisión donde max_depth tome un valor de su elección\\\n",
    "-100 árboles de decisión donde min_samples_leaf tome un valor de su elección\\\n",
    "-100 regresiones logísticas\n",
    "\n",
    "Evalúe cada uno de los tres modelos de manera independiente utilizando las métricas de Accuracy y F1-Score, luego evalúe el ensamble de modelos y compare los resultados. \n",
    "\n",
    "Nota:\n",
    " \n",
    "Para este ensamble de 300 modelos, deben hacer votación mayoritaria. Esto lo pueden hacer de distintas maneras. La más \"fácil\" es haciendo la votación \"manualmente\", como se hace a partir del minuto 5:45 del video de Ejemplo práctico de emsablajes en Coursera. Digo que es la más fácil porque si hacen la votación mayoritaria sobre las 300 predicciones van a obtener lo que se espera.\n",
    " \n",
    "Otra opción es: para cada uno de los 3 tipos de modelos, entrenar un ensamble de 100 modelos cada uno. Predecir para cada uno de esos tres ensambles y luego predecir como un ensamble de los 3 ensambles. La cuestión es que la votación mayoritaria al usar los 3 ensambles no necesariamente va a generar el mismo resultado que si hacen la votación mayoritaria directamente sobre los 300 modelos. Entonces, para los que quieran hacer esto, deben hacer ese último cálculo con cuidado.\n",
    " \n",
    "Para los que quieran hacerlo como ensamble de ensambles, digo que se debe hacer el ensamble final con cuidado por lo siguiente. Supongamos que:\n",
    " \n",
    "* para los 100 árboles del primer tipo, la votación mayoritaria es: 55% de los modelos predicen que la clase de una observación es \"1\"\n",
    "* para los 100 árboles del segundo tipo, la votación mayoritaria es: 55% de los modelos predicen que la clase de una observación es \"1\"\n",
    "* para las 100 regresiones logísticas, la votación mayoritaria es: 10% de los modelos predicen que la clase de una observación es \"1\"\n",
    " \n",
    "Si se hace la votación mayoritaria de los 300 modelos, la predicción de esa observación debería ser: (100*55%+100*55%+100*10%)/300 = 40% de los modelos votan porque la predicción debería ser \"1\". Es decir, la predicción del ensamble es \"0\" (dado que menos del 50% de modelos predijo un 1).\n",
    " \n",
    "Sin embargo, si miramos cada ensamble por separado, el primer ensamble predice \"1\", el segundo ensamble predice \"1\" y el último ensamble predice \"0\". Si hago votación mayoritaria sobre esto, la predicción va a ser \"1\", lo cual es distinto a si se hace la votación mayoritaria sobre los 300 modelos."
   ]
  },
  {
   "cell_type": "code",
   "execution_count": 35,
   "metadata": {},
   "outputs": [
    {
     "name": "stdout",
     "output_type": "stream",
     "text": [
      "Evaluación de los modelos individuales:\n",
      "Árboles de decisión con diferentes valores de max_depth:\n",
      "Accuracy: 0.5711599999999999\n",
      "F1-Score: 0.5726428252478546\n",
      "Árboles de decisión con diferentes valores de min_samples_leaf:\n",
      "Accuracy: 0.5952666666666666\n",
      "F1-Score: 0.5966046902628522\n",
      "Regresiones Logísticas:\n",
      "Accuracy: 0.6137733333333333\n",
      "F1-Score: 0.5983656137690138\n",
      "\n",
      "Evaluación del ensamble:\n",
      "Accuracy: 0.6546666666666666\n",
      "F1-Score: 0.6605504587155963\n"
     ]
    }
   ],
   "source": [
    "# Celda 7\n",
    "\n",
    "import numpy as np\n",
    "from sklearn.tree import DecisionTreeClassifier\n",
    "from sklearn.linear_model import LogisticRegression\n",
    "from sklearn.metrics import accuracy_score, f1_score\n",
    " \n",
    "# Creación de muestras de bootstrap para cada tipo de modelo\n",
    "np.random.seed(123)\n",
    "n_samples = X_train.shape[0]\n",
    " \n",
    "# Muestras para árboles de decisión con diferentes valores de max_depth\n",
    "samples_tree_max_depth = [np.random.choice(a=n_samples, size=n_samples, replace=True) for _ in range(100)]\n",
    " \n",
    "# Muestras para árboles de decisión con diferentes valores de min_samples_leaf\n",
    "samples_tree_min_samples_leaf = [np.random.choice(a=n_samples, size=n_samples, replace=True) for _ in range(100)]\n",
    " \n",
    "# Muestras para regresiones logísticas\n",
    "samples_logistic_regression = [np.random.choice(a=n_samples, size=n_samples, replace=True) for _ in range(100)]\n",
    " \n",
    "# Entrenamiento y evaluación de árboles de decisión con diferentes valores de max_depth\n",
    "trees_max_depth = [DecisionTreeClassifier(max_depth=i).fit(X_train.iloc[samples], y_train.iloc[samples]) \n",
    "                   for i, samples in enumerate(samples_tree_max_depth, start=1)]\n",
    "accuracy_tree_max_depth = [accuracy_score(tree.predict(X_test), y_test) for tree in trees_max_depth]\n",
    "f1_tree_max_depth = [f1_score(tree.predict(X_test), y_test) for tree in trees_max_depth]\n",
    " \n",
    "# Entrenamiento y evaluación de árboles de decisión con diferentes valores de min_samples_leaf\n",
    "trees_min_samples_leaf = [DecisionTreeClassifier(min_samples_leaf=i).fit(X_train.iloc[samples], y_train.iloc[samples]) \n",
    "                          for i, samples in enumerate(samples_tree_min_samples_leaf, start=1)]\n",
    "accuracy_tree_min_samples_leaf = [accuracy_score(tree.predict(X_test), y_test) for tree in trees_min_samples_leaf]\n",
    "f1_tree_min_samples_leaf = [f1_score(tree.predict(X_test), y_test) for tree in trees_min_samples_leaf]\n",
    " \n",
    "# Entrenamiento y evaluación de regresiones logísticas\n",
    "logistic_regressions = [LogisticRegression(max_iter=1000).fit(X_train.iloc[samples], y_train.iloc[samples]) \n",
    "                        for samples in samples_logistic_regression]\n",
    "accuracy_logistic_regression = [accuracy_score(lr.predict(X_test), y_test) for lr in logistic_regressions]\n",
    "f1_logistic_regression = [f1_score(lr.predict(X_test), y_test) for lr in logistic_regressions]\n",
    " \n",
    "# Evaluación de los modelos individuales\n",
    "print(\"Evaluación de los modelos individuales:\")\n",
    "print(\"Árboles de decisión con diferentes valores de max_depth:\")\n",
    "print(\"Accuracy:\", np.mean(accuracy_tree_max_depth))\n",
    "print(\"F1-Score:\", np.mean(f1_tree_max_depth))\n",
    "print(\"Árboles de decisión con diferentes valores de min_samples_leaf:\")\n",
    "print(\"Accuracy:\", np.mean(accuracy_tree_min_samples_leaf))\n",
    "print(\"F1-Score:\", np.mean(f1_tree_min_samples_leaf))\n",
    "print(\"Regresiones Logísticas:\")\n",
    "print(\"Accuracy:\", np.mean(accuracy_logistic_regression))\n",
    "print(\"F1-Score:\", np.mean(f1_logistic_regression))\n",
    " \n",
    "# Realizar votación mayoritaria sobre los 300 modelos\n",
    "y_pred_tree_max_depth = pd.DataFrame(index=X_test.index, columns=list(range(100)))\n",
    "y_pred_tree_min_samples_leaf = pd.DataFrame(index=X_test.index, columns=list(range(100)))\n",
    "y_pred_logistic_regression = pd.DataFrame(index=X_test.index, columns=list(range(100)))\n",
    " \n",
    "for i, tree in enumerate(trees_max_depth):\n",
    "    y_pred_tree_max_depth[i] = tree.predict(X_test)\n",
    "for i, tree in enumerate(trees_min_samples_leaf):\n",
    "    y_pred_tree_min_samples_leaf[i] = tree.predict(X_test)\n",
    "for i, lr in enumerate(logistic_regressions):\n",
    "    y_pred_logistic_regression[i] = lr.predict(X_test)\n",
    " \n",
    "y_pred_tree_max_depth_majority = (y_pred_tree_max_depth.sum(axis=1) >= 50).astype(int)\n",
    "y_pred_tree_min_samples_leaf_majority = (y_pred_tree_min_samples_leaf.sum(axis=1) >= 50).astype(int)\n",
    "y_pred_logistic_regression_majority = (y_pred_logistic_regression.sum(axis=1) >= 50).astype(int)\n",
    " \n",
    "y_pred_ensemble = pd.concat([y_pred_tree_max_depth_majority, y_pred_tree_min_samples_leaf_majority, y_pred_logistic_regression_majority], axis=1)\n",
    "y_pred_ensemble = (y_pred_ensemble.sum(axis=1) >= 2).astype(int)\n",
    " \n",
    "# Evaluación del ensamble\n",
    "accuracy_ensemble = accuracy_score(y_pred_ensemble, y_test)\n",
    "f1_ensemble = f1_score(y_pred_ensemble, y_test)\n",
    " \n",
    "print(\"\\nEvaluación del ensamble:\")\n",
    "print(\"Accuracy:\", accuracy_ensemble)\n",
    "print(\"F1-Score:\", f1_ensemble)"
   ]
  },
  {
   "cell_type": "markdown",
   "metadata": {},
   "source": [
    "### Punto 8 - Votación Ponderada\n",
    "En la celda 8 elabore un ensamble con la metodología de **Votación ponderada** compuesto por 300 muestras bagged para los mismos tres escenarios del punto 7. Evalúe los modelos utilizando las métricas de Accuracy y F1-Score"
   ]
  },
  {
   "cell_type": "code",
   "execution_count": 37,
   "metadata": {},
   "outputs": [
    {
     "name": "stdout",
     "output_type": "stream",
     "text": [
      "Resultados del modelo ponderado:\n",
      "Accuracy: 0.648\n",
      "F1 Score: 0.6908665105386417\n"
     ]
    }
   ],
   "source": [
    "# Celda 8\n",
    "from sklearn.tree import DecisionTreeClassifier\n",
    "from sklearn.linear_model import LogisticRegression\n",
    "from sklearn.ensemble import BaggingClassifier\n",
    "from sklearn.metrics import accuracy_score, f1_score\n",
    " \n",
    "# Modelos de árboles de decisión con diferentes parámetros\n",
    "clf_tree_max_depth = BaggingClassifier(base_estimator=DecisionTreeClassifier(max_depth=5),\n",
    "                                       n_estimators=100, bootstrap=True, random_state=42, oob_score=True)\n",
    "clf_tree_min_samples_leaf = BaggingClassifier(base_estimator=DecisionTreeClassifier(min_samples_leaf=5),\n",
    "                                              n_estimators=100, bootstrap=True, random_state=42, oob_score=True)\n",
    "clf_logistic_regression = BaggingClassifier(base_estimator=LogisticRegression(),\n",
    "                                            n_estimators=100, bootstrap=True, random_state=42, oob_score=True)\n",
    " \n",
    "# Entrenamiento de los modelos\n",
    "clf_tree_max_depth.fit(X_train, y_train)\n",
    "clf_tree_min_samples_leaf.fit(X_train, y_train)\n",
    "clf_logistic_regression.fit(X_train, y_train)\n",
    " \n",
    "# Predicción de cada modelo\n",
    "y_pred_tree_max_depth = clf_tree_max_depth.predict(X_test)\n",
    "y_pred_tree_min_samples_leaf = clf_tree_min_samples_leaf.predict(X_test)\n",
    "y_pred_logistic_regression = clf_logistic_regression.predict(X_test)\n",
    " \n",
    "# Evaluación de cada modelo individualmente\n",
    "accuracy_tree_max_depth = accuracy_score(y_pred_tree_max_depth, y_test)\n",
    "f1_score_tree_max_depth = f1_score(y_pred_tree_max_depth, y_test)\n",
    " \n",
    "accuracy_tree_min_samples_leaf = accuracy_score(y_pred_tree_min_samples_leaf, y_test)\n",
    "f1_score_tree_min_samples_leaf = f1_score(y_pred_tree_min_samples_leaf, y_test)\n",
    " \n",
    "accuracy_logistic_regression = accuracy_score(y_pred_logistic_regression, y_test)\n",
    "f1_score_logistic_regression = f1_score(y_pred_logistic_regression, y_test)\n",
    " \n",
    "# Obtención de los pesos alpha de cada modelo de acuerdo al error OOB\n",
    "errors_tree_max_depth = 1 - clf_tree_max_depth.oob_score_\n",
    "errors_tree_min_samples_leaf = 1 - clf_tree_min_samples_leaf.oob_score_\n",
    "errors_logistic_regression = 1 - clf_logistic_regression.oob_score_\n",
    " \n",
    "alpha_tree_max_depth = (1 - errors_tree_max_depth) / (1 - errors_tree_max_depth).sum()\n",
    "alpha_tree_min_samples_leaf = (1 - errors_tree_min_samples_leaf) / (1 - errors_tree_min_samples_leaf).sum()\n",
    "alpha_logistic_regression = (1 - errors_logistic_regression) / (1 - errors_logistic_regression).sum()\n",
    " \n",
    "# Realizar la votación ponderada\n",
    "weighted_sum = (y_pred_tree_max_depth * alpha_tree_max_depth + \n",
    "                y_pred_tree_min_samples_leaf * alpha_tree_min_samples_leaf + \n",
    "                y_pred_logistic_regression * alpha_logistic_regression)\n",
    " \n",
    "# Aplicar umbral para obtener las predicciones finales\n",
    "y_pred_weighted = (weighted_sum >= 0.5).astype(int)\n",
    " \n",
    "# Evaluación del modelo ponderado\n",
    "accuracy_weighted_voting = accuracy_score(y_pred_weighted, y_test)\n",
    "f1_score_weighted_voting = f1_score(y_pred_weighted, y_test)\n",
    " \n",
    "# Mostrar resultados\n",
    "print(\"Resultados del modelo ponderado:\")\n",
    "print(\"Accuracy:\", accuracy_weighted_voting)\n",
    "print(\"F1 Score:\", f1_score_weighted_voting)"
   ]
  },
  {
   "cell_type": "markdown",
   "metadata": {},
   "source": [
    "### Punto 9 - Comparación y análisis de resultados\n",
    "En la celda 9 comente sobre los resultados obtenidos con las metodologías usadas en los puntos 7 y 8, compare los resultados y enuncie posibles ventajas o desventajas de cada una de ellas."
   ]
  },
  {
   "cell_type": "code",
   "execution_count": 38,
   "metadata": {},
   "outputs": [
    {
     "data": {
      "image/png": "[encoded data removed]",
      "text/plain": [
       "<Figure size 1000x500 with 2 Axes>"
      ]
     },
     "metadata": {},
     "output_type": "display_data"
    }
   ],
   "source": [
    "# Celda 9\n",
    "\n",
    "import matplotlib.pyplot as plt\n",
    "\n",
    "# Data\n",
    "models = ['Simple Voting', 'Weighted Voting']\n",
    "accuracy_scores = [accuracy_ensemble, accuracy_weighted_voting]\n",
    "f1_scores = [f1_ensemble, f1_score_weighted_voting]\n",
    "\n",
    "# Plot\n",
    "plt.figure(figsize=(10, 5))\n",
    "\n",
    "plt.subplot(1, 2, 1)\n",
    "plt.bar(models, accuracy_scores, color=['blue', 'green'])\n",
    "plt.ylabel('Accuracy')\n",
    "plt.title('Accuracy Comparison')\n",
    "\n",
    "plt.subplot(1, 2, 2)\n",
    "plt.bar(models, f1_scores, color=['blue', 'green'])\n",
    "plt.ylabel('F1 Score')\n",
    "plt.title('F1 Score Comparison')\n",
    "\n",
    "plt.tight_layout()\n",
    "plt.show()\n"
   ]
  },
  {
   "cell_type": "code",
   "execution_count": null,
   "metadata": {},
   "outputs": [],
   "source": []
  }
 ],
 "metadata": {
  "kernelspec": {
   "display_name": "Python 3 (ipykernel)",
   "language": "python",
   "name": "python3"
  },
  "language_info": {
   "codemirror_mode": {
    "name": "ipython",
    "version": 3
   },
   "file_extension": ".py",
   "mimetype": "text/x-python",
   "name": "python",
   "nbconvert_exporter": "python",
   "pygments_lexer": "ipython3",
   "version": "3.9.18"
  }
 },
 "nbformat": 4,
 "nbformat_minor": 4
}
